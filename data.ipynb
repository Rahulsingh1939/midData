{
 "cells": [
  {
   "cell_type": "code",
   "execution_count": 1,
   "metadata": {},
   "outputs": [],
   "source": [
    "import pandas as pd\n"
   ]
  },
  {
   "cell_type": "code",
   "execution_count": 4,
   "metadata": {},
   "outputs": [
    {
     "name": "stdout",
     "output_type": "stream",
     "text": [
      "      Employee ID Training Date   Training Program Name Training Type  \\\n",
      "0            1001    2022-09-21        Customer Service      Internal   \n",
      "1            1002    2023-07-19  Leadership Development      Internal   \n",
      "2            1003    2023-02-24        Technical Skills      Internal   \n",
      "3            1004    2023-01-12        Customer Service      Internal   \n",
      "4            1005    2023-05-12    Communication Skills      External   \n",
      "...           ...           ...                     ...           ...   \n",
      "2995         3996    2023-01-09        Customer Service      Internal   \n",
      "2996         3997    2022-09-19      Project Management      External   \n",
      "2997         3998    2022-09-26        Customer Service      External   \n",
      "2998         3999    2023-07-02  Leadership Development      Internal   \n",
      "2999         4000    2022-10-06  Leadership Development      Internal   \n",
      "\n",
      "     Training Outcome           Location            Trainer  \\\n",
      "0              Failed          Port Greg     Amanda Daniels   \n",
      "1              Failed        Brandonview  Brittany Chambers   \n",
      "2          Incomplete  Port Briannahaven      Mark Roberson   \n",
      "3           Completed      Knightborough     Richard Fisher   \n",
      "4              Passed         Bruceshire    Heather Shaffer   \n",
      "...               ...                ...                ...   \n",
      "2995           Failed        North Emily      Carmen Cortez   \n",
      "2996           Failed       West Zachary     Katrina Parker   \n",
      "2997        Completed          Port Kyle    Andre Donaldson   \n",
      "2998       Incomplete       Williamsland       Brian Obrien   \n",
      "2999        Completed          Jamesfurt   Michael Mckenzie   \n",
      "\n",
      "      Training Duration(Days)  Training Cost  \n",
      "0                           4         510.83  \n",
      "1                           2         582.37  \n",
      "2                           4         777.06  \n",
      "3                           2         824.30  \n",
      "4                           4         145.99  \n",
      "...                       ...            ...  \n",
      "2995                        2         808.51  \n",
      "2996                        4         629.16  \n",
      "2997                        1         994.09  \n",
      "2998                        5         477.78  \n",
      "2999                        4         951.27  \n",
      "\n",
      "[3000 rows x 9 columns]\n"
     ]
    }
   ],
   "source": [
    "df = pd.read_excel('datahackon.xlsx', sheet_name='training data')\n",
    "\n",
    "print(df)"
   ]
  }
 ],
 "metadata": {
  "kernelspec": {
   "display_name": "Python 3",
   "language": "python",
   "name": "python3"
  },
  "language_info": {
   "codemirror_mode": {
    "name": "ipython",
    "version": 3
   },
   "file_extension": ".py",
   "mimetype": "text/x-python",
   "name": "python",
   "nbconvert_exporter": "python",
   "pygments_lexer": "ipython3",
   "version": "3.11.2"
  }
 },
 "nbformat": 4,
 "nbformat_minor": 2
}
